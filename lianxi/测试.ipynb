{
 "cells": [
  {
   "cell_type": "code",
   "execution_count": 2,
   "id": "systematic-minute",
   "metadata": {
    "scrolled": true
   },
   "outputs": [
    {
     "name": "stdout",
     "output_type": "stream",
     "text": [
      "24 µs ± 229 ns per loop (mean ± std. dev. of 7 runs, 10000 loops each)\n"
     ]
    }
   ],
   "source": [
    "%timeit lis=[x for x in range(1000)]"
   ]
  },
  {
   "cell_type": "code",
   "execution_count": 13,
   "id": "anonymous-rwanda",
   "metadata": {},
   "outputs": [],
   "source": [
    "import numpy as np"
   ]
  },
  {
   "cell_type": "code",
   "execution_count": 1,
   "id": "international-lyric",
   "metadata": {},
   "outputs": [
    {
     "data": {
      "text/plain": [
       "4"
      ]
     },
     "execution_count": 1,
     "metadata": {},
     "output_type": "execute_result"
    }
   ],
   "source": [
    "a=3\n",
    "b=4\n",
    "a\n",
    "b"
   ]
  },
  {
   "cell_type": "markdown",
   "id": "hired-composition",
   "metadata": {},
   "source": [
    "# 类的使用----实例化类的对象"
   ]
  },
  {
   "cell_type": "code",
   "execution_count": 2,
   "id": "anonymous-jamaica",
   "metadata": {
    "scrolled": true
   },
   "outputs": [
    {
     "name": "stdout",
     "output_type": "stream",
     "text": [
      "MyClass 类的属性i为： 12345\n",
      "MyClass 类的方法f 为： hello world\n"
     ]
    }
   ],
   "source": [
    "#类的定义\n",
    "class MyClass:\n",
    "    i=12345\n",
    "    def f(self):\n",
    "        return 'hello world'\n",
    "#实例化\n",
    "x =MyClass()\n",
    "\n",
    "#访问类的属性和方法\n",
    "print(\"MyClass 类的属性i为：\",x.i)\n",
    "print(\"MyClass 类的方法f 为：\",x.f())"
   ]
  },
  {
   "cell_type": "markdown",
   "id": "worthy-workshop",
   "metadata": {},
   "source": [
    "# 类的组成----实例属性和方法"
   ]
  },
  {
   "cell_type": "raw",
   "id": "rising-montana",
   "metadata": {},
   "source": [
    "类由三个部分组成\n",
    "        1.实例属性或者叫对象属性\n",
    "        2.方法-可理解为在面向过程中定义的函数，\n",
    "          但是首个参数必须是‘self'\n",
    "实例代码：     "
   ]
  },
  {
   "cell_type": "code",
   "execution_count": 7,
   "id": "mysterious-management",
   "metadata": {},
   "outputs": [
    {
     "name": "stdout",
     "output_type": "stream",
     "text": [
      "Bob\n",
      "student\n",
      "140260583831480\n",
      "140260583830584\n",
      "<__main__.Student object at 0x7f90f6467438>\n"
     ]
    }
   ],
   "source": [
    "#实例属性 必须通过初始化或实例化对象 ，通过对象去访问\n",
    "class Student(object):\n",
    "    def __init__(self,name):\n",
    "        self.name=name\n",
    "s=Student('Bob')\n",
    "print(s.name)\n",
    "\n",
    "#类属性 不需要实例化对象 ， 直接通过类名访问\n",
    "class Student(object):\n",
    "    name='student'\n",
    "print(Student.name)\n",
    "\n",
    "#面向对象\n",
    "#属性和方法\n",
    "class Student(object):\n",
    "    #初始化方法  self指向创建的实例本身\n",
    "    def __init__(self,name,score):\n",
    "        self.name=name\n",
    "        self.score=score\n",
    "    def print_score(self):\n",
    "        print('%s : %s'%(self.name,self.score))\n",
    "# 实例化对象1\n",
    "xiaohong=Student('xiaohong',80)\n",
    "print(id(xiaohong))\n",
    "# 实例化对象2\n",
    "xiaolan=Student('xiaolan',95)\n",
    "print(id(xiaolan))\n",
    "print(xiaolan)"
   ]
  },
  {
   "cell_type": "markdown",
   "id": "senior-tours",
   "metadata": {},
   "source": [
    "# 构造方法----对象方法中的特殊方法 "
   ]
  }
 ],
 "metadata": {
  "kernelspec": {
   "display_name": "Python 3",
   "language": "python",
   "name": "python3"
  },
  "language_info": {
   "codemirror_mode": {
    "name": "ipython",
    "version": 3
   },
   "file_extension": ".py",
   "mimetype": "text/x-python",
   "name": "python",
   "nbconvert_exporter": "python",
   "pygments_lexer": "ipython3",
   "version": "3.6.9"
  }
 },
 "nbformat": 4,
 "nbformat_minor": 5
}
