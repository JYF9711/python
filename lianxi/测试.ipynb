{
 "cells": [
  {
   "cell_type": "code",
   "execution_count": null,
   "id": "systematic-minute",
   "metadata": {
    "scrolled": true
   },
   "outputs": [],
   "source": [
    "%timeit lis=[x for x in range(1000)]"
   ]
  },
  {
   "cell_type": "code",
   "execution_count": null,
   "id": "anonymous-rwanda",
   "metadata": {},
   "outputs": [],
   "source": [
    "import numpy as np"
   ]
  },
  {
   "cell_type": "code",
   "execution_count": null,
   "id": "international-lyric",
   "metadata": {},
   "outputs": [],
   "source": [
    "a=3\n",
    "b=4\n",
    "a\n",
    "b"
   ]
  },
  {
   "cell_type": "markdown",
   "id": "stretch-obligation",
   "metadata": {},
   "source": [
    "## 递归"
   ]
  },
  {
   "cell_type": "code",
   "execution_count": null,
   "id": "married-saturday",
   "metadata": {},
   "outputs": [],
   "source": []
  },
  {
   "cell_type": "markdown",
   "id": "hired-composition",
   "metadata": {},
   "source": [
    "# 类的使用----实例化类的对象"
   ]
  },
  {
   "cell_type": "code",
   "execution_count": null,
   "id": "anonymous-jamaica",
   "metadata": {
    "scrolled": true
   },
   "outputs": [],
   "source": [
    "#类的定义\n",
    "class MyClass:\n",
    "    i=12345\n",
    "    def f(self):\n",
    "        return 'hello world'\n",
    "#实例化\n",
    "x =MyClass()\n",
    "\n",
    "#访问类的属性和方法\n",
    "print(\"MyClass 类的属性i为：\",x.i)\n",
    "print(\"MyClass 类的方法f 为：\",x.f())"
   ]
  },
  {
   "cell_type": "markdown",
   "id": "worthy-workshop",
   "metadata": {},
   "source": [
    "# 类的组成----实例属性和方法"
   ]
  },
  {
   "cell_type": "raw",
   "id": "rising-montana",
   "metadata": {},
   "source": [
    "类由三个部分组成\n",
    "        1.实例属性或者叫对象属性\n",
    "        2.方法-可理解为在面向过程中定义的函数，\n",
    "          但是首个参数必须是‘self'\n",
    "实例代码：     "
   ]
  },
  {
   "cell_type": "code",
   "execution_count": null,
   "id": "mysterious-management",
   "metadata": {},
   "outputs": [],
   "source": [
    "#实例属性 必须通过初始化或实例化对象 ，通过对象去访问\n",
    "class Student(object):\n",
    "    def __init__(self,name):\n",
    "        self.name=name\n",
    "s=Student('Bob')\n",
    "print(s.name)\n",
    "\n",
    "#类属性 不需要实例化对象 ， 直接通过类名访问\n",
    "class Student(object):\n",
    "    name='student'\n",
    "print(Student.name)\n",
    "\n",
    "#面向对象\n",
    "#属性和方法\n",
    "class Student(object):\n",
    "    #初始化方法  self指向创建的实例本身\n",
    "    def __init__(self,name,score):\n",
    "        self.name=name\n",
    "        self.score=score\n",
    "    def print_score(self):\n",
    "        print('%s : %s'%(self.name,self.score))\n",
    "# 实例化对象1\n",
    "xiaohong=Student('xiaohong',80)\n",
    "print(id(xiaohong))\n",
    "# 实例化对象2\n",
    "xiaolan=Student('xiaolan',95)\n",
    "print(id(xiaolan))\n",
    "print(xiaolan)"
   ]
  },
  {
   "cell_type": "markdown",
   "id": "senior-tours",
   "metadata": {},
   "source": [
    "# 构造方法----对象方法中的特殊方法 "
   ]
  },
  {
   "cell_type": "raw",
   "id": "republican-lodging",
   "metadata": {},
   "source": [
    "很多类都倾向于将对象创建为初始状态。因此类可能会定义一个名为init（）的特殊方法（构造方法）例如："
   ]
  },
  {
   "cell_type": "code",
   "execution_count": null,
   "id": "theoretical-enemy",
   "metadata": {},
   "outputs": [],
   "source": [
    "def __init__(self):\n",
    "    self.data=[]"
   ]
  },
  {
   "cell_type": "raw",
   "id": "atlantic-broad",
   "metadata": {},
   "source": [
    "类定义了init()方法的话，类的实例化操作会调用init()方法。所以在下列中，可以这样创建一个新的实例："
   ]
  },
  {
   "cell_type": "code",
   "execution_count": null,
   "id": "fatal-soccer",
   "metadata": {
    "scrolled": true
   },
   "outputs": [],
   "source": [
    "x=MyClass()"
   ]
  },
  {
   "cell_type": "raw",
   "id": "harmful-welsh",
   "metadata": {},
   "source": [
    "当然，init()方法可以有参数，参数通过init()传递到类的实例化操作上。例如："
   ]
  },
  {
   "cell_type": "code",
   "execution_count": null,
   "id": "upper-dryer",
   "metadata": {},
   "outputs": [],
   "source": [
    "class Complex:\n",
    "    def __init__(self,realpart,imagpart):\n",
    "        self.r=realpart\n",
    "        self.i=imagpart\n",
    "x=Complex(3.0,-4.6)\n",
    "print(x.r,x.i)"
   ]
  },
  {
   "cell_type": "markdown",
   "id": "white-judge",
   "metadata": {},
   "source": [
    "self关键字-代表类的实例，而非类\n",
    "方法与普通的函数只有一个特别的区别--他们必须有一个额外的第一个参数名称，按照惯例它的名称是self."
   ]
  },
  {
   "cell_type": "code",
   "execution_count": null,
   "id": "unexpected-announcement",
   "metadata": {},
   "outputs": [],
   "source": [
    "class Test:\n",
    "    def prt(self):\n",
    "        print(self)\n",
    "        print(self.__class__)\n",
    "t=Test()\n",
    "t.prt"
   ]
  },
  {
   "cell_type": "markdown",
   "id": "useful-bishop",
   "metadata": {},
   "source": [
    "\n",
    "# 类和实例总结"
   ]
  },
  {
   "cell_type": "raw",
   "id": "automatic-rally",
   "metadata": {},
   "source": [
    "1、类可以理解为图纸或模板\n",
    "2、实例是根据类的图纸或者模板创建出来的一个一个对象\n",
    "3、类的定义class,关键字self\n",
    "4、类的初始化函数__init__\n",
    "5、面向对象三大特点：继承，封装，多肽\n",
    "6、属性和方法"
   ]
  },
  {
   "cell_type": "markdown",
   "id": "expressed-content",
   "metadata": {},
   "source": [
    "# 访问限制"
   ]
  },
  {
   "cell_type": "markdown",
   "id": "clear-output",
   "metadata": {},
   "source": [
    "通过“__”两个下划线可以修饰是由变量\n",
    "通过编写get 和set 方法来修改对象的属性\n",
    "Python中没有真正的私有属性和私有方法"
   ]
  },
  {
   "cell_type": "code",
   "execution_count": null,
   "id": "modular-toyota",
   "metadata": {},
   "outputs": [],
   "source": [
    "class Student(object):\n",
    "# 方法 self 指向创建者本身\n",
    "    def __init__(self,name,score):\n",
    "        self.__name=name\n",
    "        self.__score=score\n",
    "\n",
    "    def print_score(self):\n",
    "        print('%s : %s'%(self.__name,self.__score))\n",
    "    \n",
    "    def get_grade(self):\n",
    "        if self.__name>=90:\n",
    "            return 'A'\n",
    "        elif self.__name>=60:\n",
    "            return 'B'\n",
    "        else :\n",
    "            return 'C'\n",
    "    def set_score(self,score):\n",
    "        if 0<=score<=100:\n",
    "            self.__score=score\n",
    "        else:\n",
    "            raise ValueError('分数清大于0小于100')\n",
    "    def get_score(self):\n",
    "        return self.__score\n",
    "\n",
    "xiaolan=Student('xiaolan',45)\n",
    "\n",
    "print (xiaolan.set_score(99))\n",
    "print (xiaolan.get_score())\n",
    "\n",
    "# python没有真正的私有，把私有改名称_Student__name\n",
    "print(xiaolan._Student__name)\n",
    "# print(xiaolan.print_score())"
   ]
  },
  {
   "cell_type": "markdown",
   "id": "widespread-arnold",
   "metadata": {},
   "source": [
    "# 面向对象----继承和多肽"
   ]
  },
  {
   "cell_type": "raw",
   "id": "behind-backup",
   "metadata": {},
   "source": [
    "继承\n",
    "1.定义一个class的时候,可以从某个现有的class继承,新的class 称为子类(Subalss)\n",
    "2.被继承的Class称为基类,父类或超类(Base class,super class)"
   ]
  },
  {
   "cell_type": "code",
   "execution_count": null,
   "id": "union-legend",
   "metadata": {},
   "outputs": [],
   "source": [
    "class Animal(object):\n",
    "    def run(self):\n",
    "        print('Animal is running')\n",
    "class Dog(Animal):\n",
    "    pass\n",
    "class Cat(Animal):\n",
    "    pass\n",
    "dog=Dog()\n",
    "# dog.run()\n",
    "cat=Cat()\n",
    "# cat.run()"
   ]
  },
  {
   "cell_type": "markdown",
   "id": "smoking-interview",
   "metadata": {},
   "source": [
    "# 多继承[扩展]"
   ]
  },
  {
   "cell_type": "raw",
   "id": "parental-breeding",
   "metadata": {},
   "source": [
    "python同样有限的支持多继承形式.\n",
    "\n",
    "需要注意圆括号中父类的顺序,若是父类中有相同的方法名,而在子类使用时未指定,python从左至右搜索 即方法在子类中未找到时 从左至右查找父类中包含方法"
   ]
  },
  {
   "cell_type": "code",
   "execution_count": 58,
   "id": "appointed-purple",
   "metadata": {},
   "outputs": [
    {
     "name": "stdout",
     "output_type": "stream",
     "text": [
      "我叫Tim,我是一个演说家,我讲的主题是python\n",
      "我叫Tim,我是一个演说家,我讲的主题是python\n"
     ]
    }
   ],
   "source": [
    "#定义类\n",
    "class People:\n",
    "    #定义最基本的属性\n",
    "    name=''\n",
    "    age=0\n",
    "    #定义私有属性,私有属性在类外部无法直接进行访问\n",
    "    __weight=0\n",
    "    #定义构造方法\n",
    "    def __init__(self,n,a,w):\n",
    "        self.name=n\n",
    "        self.age=a\n",
    "        self.__weight=w\n",
    "    def speak(self):\n",
    "        print('%s说:我 %d岁'%(self.name,self.age))\n",
    "\n",
    "#单继承实例\n",
    "class Student(People):\n",
    "    gread=''\n",
    "    def __init__(self,n,a,w,g):\n",
    "        #继承父类的构函\n",
    "        People.__init__(self,n,a,w)\n",
    "        self.gread=g\n",
    "    #覆盖父类的方法\n",
    "    def speak(self):\n",
    "        print(\"%s说:我%d岁了,我在读%d年级\"%(self.name,self.age,self.gread))\n",
    "        \n",
    "#另一个类,多重继承之前的准备\n",
    "class Speaker():\n",
    "    topic=''\n",
    "    name=''\n",
    "    def __init__(self,n,t):\n",
    "        self.name=n\n",
    "        self.topic=t\n",
    "    def speak(self):\n",
    "        print(\"我叫%s,我是一个演说家,我讲的主题是%s\"%(self.name,self.topic))\n",
    "#多重继承\n",
    "class Sample(Speaker,Student):\n",
    "    a=''\n",
    "    def __init__(self,n,a,w,g,t):\n",
    "        Student.__init__(self,n,a,w,g)\n",
    "        Speaker.__init__(self,n,t)\n",
    "        \n",
    "test=Sample(\"Tim\",25,80,4,\"python\")\n",
    "test.speak()\n",
    "test.speak()"
   ]
  },
  {
   "cell_type": "markdown",
   "id": "dirty-olympus",
   "metadata": {},
   "source": [
    "# 方法重写"
   ]
  },
  {
   "cell_type": "raw",
   "id": "ranging-trinity",
   "metadata": {},
   "source": [
    "如果你的父类方法的功能不能满足你的需求,你可以在子类重写你的父类的方法"
   ]
  },
  {
   "cell_type": "code",
   "execution_count": 70,
   "id": "second-endorsement",
   "metadata": {},
   "outputs": [
    {
     "name": "stdout",
     "output_type": "stream",
     "text": [
      "Dog is running\n",
      "True\n",
      "True\n",
      "False\n",
      "True\n",
      "Dog is running\n",
      "cat is running\n",
      "Animal is running\n"
     ]
    }
   ],
   "source": [
    "class Animal(object):\n",
    "    def run(self):\n",
    "        print('Animal is running')\n",
    "class Dog(Animal):\n",
    "    def run(self):\n",
    "        #调用父类run的方法\n",
    "        #super().run()\n",
    "        print('Dog is running')\n",
    "    def eat(self):\n",
    "        print('eat meat')\n",
    "dog=Dog()\n",
    "dog.run()\n",
    "\n",
    "class Cat(Animal):\n",
    "    def run(self):#重写\n",
    "        #调用父类的Run方法\n",
    "        #super().run()\n",
    "        print('cat is running')\n",
    "    def eat(self):\n",
    "        print('eat fish')\n",
    "#多肽\n",
    "b=Animal()\n",
    "c=Dog()\n",
    "\n",
    "print(isinstance(b,Animal))\n",
    "print(isinstance(c,Dog))\n",
    "print(isinstance(b,Dog))\n",
    "print(isinstance(c,Animal))\n",
    "#调用run_twice方法,需要传递Animal类的对象或Animal的子类\n",
    "def run_twice(Animal):\n",
    "    Animal.run()\n",
    "#     Animal.run()\n",
    "\n",
    "run_twice(Dog())\n",
    "run_twice(Cat())\n",
    "run_twice(Animal())\n",
    "\n"
   ]
  },
  {
   "cell_type": "markdown",
   "id": "eastern-albert",
   "metadata": {},
   "source": [
    "## 类型判断 "
   ]
  },
  {
   "cell_type": "markdown",
   "id": "rational-elimination",
   "metadata": {},
   "source": [
    "type()\n",
    "isinstance()\n",
    "dir()#获得一个对象的所有属性和方法"
   ]
  },
  {
   "cell_type": "code",
   "execution_count": 82,
   "id": "quiet-reservation",
   "metadata": {},
   "outputs": [
    {
     "name": "stdout",
     "output_type": "stream",
     "text": [
      "True\n",
      "True\n",
      "True\n",
      "9\n",
      "True\n",
      "19\n",
      "['x', 'y', '__module__', '__init__', 'power', '__dict__', '__weakref__', '__doc__', '__repr__', '__hash__', '__str__', '__getattribute__', '__setattr__', '__delattr__', '__lt__', '__le__', '__eq__', '__ne__', '__gt__', '__ge__', '__new__', '__reduce_ex__', '__reduce__', '__subclasshook__', '__init_subclass__', '__format__', '__sizeof__', '__dir__', '__class__']\n",
      "['__class__', '__delattr__', '__dict__', '__dir__', '__doc__', '__eq__', '__format__', '__ge__', '__getattribute__', '__gt__', '__hash__', '__init__', '__init_subclass__', '__le__', '__lt__', '__module__', '__ne__', '__new__', '__reduce__', '__reduce_ex__', '__repr__', '__setattr__', '__sizeof__', '__str__', '__subclasshook__', '__weakref__', 'power', 'x', 'y']\n",
      "2\n",
      "2\n"
     ]
    }
   ],
   "source": [
    "import types\n",
    "def fn():\n",
    "    pass\n",
    "print(type(fn)==types.FunctionType)\n",
    "print(type(abs)==types.BuiltinFunctionType)\n",
    "\n",
    "#getattr(),setattr(),hasattr()\n",
    "class MyObject(object):\n",
    "    def __init__(self):\n",
    "        self.x=9\n",
    "        \n",
    "    def power(self):\n",
    "        return self.x*self.x\n",
    "obj=MyObject()\n",
    "\n",
    "#obj 有属性吗?\n",
    "print(hasattr(obj,'x'))\n",
    "print(obj.x)\n",
    "\n",
    "#设置一个属性Y\n",
    "setattr(obj,'y',19)\n",
    "print(hasattr(obj,'y'))\n",
    "print(getattr(obj,'y'))\n",
    "\n",
    "#dir()\n",
    "print(obj.__dir__())\n",
    "print(dir(obj))\n",
    "\n",
    "a=[1,2]\n",
    "print(len(a))\n",
    "print(a.__len__())"
   ]
  },
  {
   "cell_type": "markdown",
   "id": "conservative-journalism",
   "metadata": {},
   "source": [
    "# 设计模式 "
   ]
  },
  {
   "cell_type": "markdown",
   "id": "downtown-vaccine",
   "metadata": {},
   "source": [
    "### 列表生成式"
   ]
  },
  {
   "cell_type": "markdown",
   "id": "sixth-beach",
   "metadata": {},
   "source": [
    "python内置的非常简单却强大的可以用来创建list的生成式\n",
    "快速把字典内容转化成list"
   ]
  },
  {
   "cell_type": "code",
   "execution_count": 93,
   "id": "based-palestinian",
   "metadata": {},
   "outputs": [
    {
     "name": "stdout",
     "output_type": "stream",
     "text": [
      "['x=A', 'y=B', 'z=C']\n",
      "[1, 2, 3, 4, 5, 6, 7, 8, 9]\n",
      "[1, 4, 9, 16, 25, 36, 49, 64, 81, 100]\n",
      "['a1', 'a2', 'a3', 'b1', 'b2', 'b3', 'c1', 'c2', 'c3']\n",
      "['a1', 'a2', 'a3', 'b1', 'b2', 'b3', 'c1', 'c2', 'c3']\n"
     ]
    }
   ],
   "source": [
    "d={'x':'A','y':'B','z':'C'}\n",
    "print([k + '=' + v for k,v in d.items()])\n",
    "#生成列表list [1,2,3,4,5,6,7,8,9,10]\n",
    "print(list(range(1,10)))\n",
    "\n",
    "print([x * x for x in range(1,11)])\n",
    "\n",
    "print([m + n for m in 'abc' for n in '123'])\n",
    "\n",
    "print([m + n for m in 'a.b.c' for n in '123' if m!='.'])"
   ]
  },
  {
   "cell_type": "markdown",
   "id": "fifth-hands",
   "metadata": {},
   "source": [
    "# 生成器 "
   ]
  },
  {
   "cell_type": "raw",
   "id": "sonic-hunter",
   "metadata": {},
   "source": [
    "1.循环过程中不断推算后续的元素呢? 这样就不必创建完整的list ,这种一边循环一边计算的机制,称为生成器:generator function\n",
    "2.两种定义:\n",
    "    列表生成式\n",
    "    带yield的generator function"
   ]
  },
  {
   "cell_type": "code",
   "execution_count": null,
   "id": "confident-nicaragua",
   "metadata": {},
   "outputs": [],
   "source": [
    "g=(x*x for x in range(10))\n",
    "print(g)\n",
    "print(next(g))\n",
    "print(next(g))\n",
    "print(next(g))\n",
    "print(next(g))\n",
    "print(next(g))\n",
    "\n",
    "for n in g:\n",
    "    print(n)\n",
    "    \n",
    "#yield\n",
    "#裴波那契数列1,1,2,3,5,8\n",
    "def fib(max):\n",
    "    n,a,b=0,0,1\n",
    "    while n<max:\n",
    "        print(b)\n",
    "        a,b=b,a+b\n",
    "        n=n+1\n",
    "    return 'done'\n",
    "fib(6)\n",
    "\n",
    "#输入关键字换成yield\n",
    "def fib(max):\n",
    "    n,a,b=0,0,1\n",
    "    while n<max:\n",
    "        yield b\n",
    "        a,b=b,a+b\n",
    "        n=n+1\n",
    "    return 'done'\n",
    "g=fib(6)\n",
    "\n",
    "print(next(g))\n",
    "print(next(g))\n",
    "print(next(g))\n",
    "for n in g:\n",
    "    print(n)"
   ]
  },
  {
   "cell_type": "markdown",
   "id": "alien-belief",
   "metadata": {},
   "source": [
    "## python中yield关键字的使用"
   ]
  },
  {
   "cell_type": "raw",
   "id": "happy-apollo",
   "metadata": {},
   "source": [
    "1.yield 是一个类似return 的关键字,只是这个函数返回的是一个生成器\n",
    "2.当的调用这个函数时,函数内部的代码并不立马执行,这个函数只是返回一个生成器对象\n",
    "3.当你使用for 进行迭代的时候,函数中的代码才会执行\n",
    "4.生成器的特点:\n",
    "    可迭代\n",
    "    只读取一次\n",
    "    实时生成数据,不会全部在内存在"
   ]
  },
  {
   "cell_type": "markdown",
   "id": "lasting-demand",
   "metadata": {},
   "source": [
    "# 迭代器"
   ]
  },
  {
   "cell_type": "raw",
   "id": "hearing-sender",
   "metadata": {},
   "source": [
    "for循环可以应用下列类型:\n",
    "    1.集合数据类型:list , tuple ,dict,set,str等\n",
    "    2.generator ,生成器和带yield的gederator function等\n",
    "直接作用于for循环的叫可迭代对象:iterable\n",
    "直接作用于next方法的叫可以生成器对象:iterator\n",
    "\n",
    "生成器可以同时作用于for 循环和next()函数,不断调用直至抛出Stoplteration错误"
   ]
  },
  {
   "cell_type": "code",
   "execution_count": 106,
   "id": "square-collapse",
   "metadata": {},
   "outputs": [
    {
     "name": "stdout",
     "output_type": "stream",
     "text": [
      "10\n",
      "10\n"
     ]
    }
   ],
   "source": [
    "print(abs(-10))\n",
    "f=abs\n",
    "print(f(-10))"
   ]
  },
  {
   "cell_type": "code",
   "execution_count": 110,
   "id": "figured-income",
   "metadata": {},
   "outputs": [
    {
     "name": "stdout",
     "output_type": "stream",
     "text": [
      "<map object at 0x7f8b135ee438>\n",
      "1\n",
      "4\n",
      "9\n",
      "['1', '2', '3', '4', '5', '6', '7', '8', '9']\n"
     ]
    }
   ],
   "source": [
    "l=[1,2,3,4,5,6,7,8,9]\n",
    "\n",
    "def f(x):\n",
    "    return x*x\n",
    "m=map(f,l)\n",
    "print(m)\n",
    "print(next(m))\n",
    "print(next(m))\n",
    "print(next(m))\n",
    "\n",
    "l=[1,2,3,4,5,6,7,8,9]\n",
    "\n",
    "print(list(map(str,l)))"
   ]
  },
  {
   "cell_type": "code",
   "execution_count": 111,
   "id": "dominant-headline",
   "metadata": {},
   "outputs": [
    {
     "name": "stdout",
     "output_type": "stream",
     "text": [
      "425789\n",
      "<class 'int'>\n"
     ]
    }
   ],
   "source": [
    "l=[4,2,5,7,8,9]\n",
    "\n",
    "from functools import reduce\n",
    "\n",
    "def f(x,y):\n",
    "    return x*10+y\n",
    "print(reduce(f,l))\n",
    "print(type(reduce(f,l)))"
   ]
  },
  {
   "cell_type": "markdown",
   "id": "tender-moses",
   "metadata": {},
   "source": [
    "## 二分查找"
   ]
  },
  {
   "cell_type": "code",
   "execution_count": 231,
   "id": "regulation-suicide",
   "metadata": {},
   "outputs": [
    {
     "name": "stdout",
     "output_type": "stream",
     "text": [
      "3\n",
      "不存在\n",
      "1\n"
     ]
    }
   ],
   "source": [
    "#纯算法\n",
    "\n",
    "list=[1,2,3,4,5,6,7,8,9,10,11,12,13,14,15,16,17]\n",
    "n=2\n",
    "left=0\n",
    "right=len(list)-1\n",
    "count=1\n",
    "while left<right:\n",
    "    middle=(left+right)//2\n",
    "#     middle=int(left+(right-left)/2)\n",
    "    if n>list[middle]:\n",
    "        left=middle+1\n",
    "    elif n<list[middle]:\n",
    "        right=middle-1\n",
    "    else :\n",
    "        print(count)\n",
    "        print(\"不存在\")\n",
    "        print(middle)\n",
    "        break\n",
    "    count+=1\n",
    "else:\n",
    "    print(\"不存在\")"
   ]
  },
  {
   "cell_type": "code",
   "execution_count": 230,
   "id": "czech-premiere",
   "metadata": {},
   "outputs": [
    {
     "data": {
      "text/plain": [
       "8"
      ]
     },
     "execution_count": 230,
     "metadata": {},
     "output_type": "execute_result"
    }
   ],
   "source": [
    "17//2"
   ]
  },
  {
   "cell_type": "code",
   "execution_count": 235,
   "id": "understood-travel",
   "metadata": {},
   "outputs": [
    {
     "name": "stdout",
     "output_type": "stream",
     "text": [
      "1\n"
     ]
    }
   ],
   "source": [
    "#递归法二分查找\n",
    "list=[1,2,3,4,5,6,7,8,9,10]\n",
    "def binar_search(n,left,right):\n",
    "    if left<=right:\n",
    "        middle=(left+right)//2\n",
    "        if n<list[middle]:\n",
    "            right=middle-1\n",
    "        elif n>list[middle]:\n",
    "            left=middle+1\n",
    "        else:\n",
    "            return middle\n",
    "        return binar_search(n,left,right)\n",
    "    else:\n",
    "        return -1\n",
    "print(binar_search(2,0,len(list)-1))"
   ]
  },
  {
   "cell_type": "code",
   "execution_count": 4,
   "id": "821891cc",
   "metadata": {},
   "outputs": [
    {
     "name": "stdout",
     "output_type": "stream",
     "text": [
      "-----TEST-----1\n"
     ]
    }
   ],
   "source": [
    "# 捕获异常\n",
    "try:\n",
    "    print(\"-----TEST-----1\")\n",
    "    \n",
    "    f=open('123.txt','r')\n",
    "    \n",
    "    print(\"-----TEST-----2\")\n",
    "except IOError:   #文件没找到。属于IO异常\n",
    "    pass          #捕获异常，执行的代码\n"
   ]
  },
  {
   "cell_type": "code",
   "execution_count": 7,
   "id": "b5ebd1d4",
   "metadata": {},
   "outputs": [
    {
     "name": "stdout",
     "output_type": "stream",
     "text": [
      "产生错误\n"
     ]
    }
   ],
   "source": [
    "try:\n",
    "    print(num)\n",
    "except NameError:\n",
    "# except IOError:\n",
    "    print(\"产生错误\")"
   ]
  },
  {
   "cell_type": "code",
   "execution_count": 11,
   "id": "ee31981f",
   "metadata": {},
   "outputs": [
    {
     "name": "stdout",
     "output_type": "stream",
     "text": [
      "-----TEST-----1\n",
      "产生错误\n",
      "[Errno 2] No such file or directory: '123.txt'\n"
     ]
    }
   ],
   "source": [
    "try:\n",
    "    print(\"-----TEST-----1\")\n",
    "    \n",
    "    f=open('123.txt','r')\n",
    "    \n",
    "    print(\"-----TEST-----2\")\n",
    "    \n",
    "    print(num)\n",
    "# 获取错误描述\n",
    "except (NameError,IOError) as result:\n",
    "    print(\"产生错误\")\n",
    "    print(result)"
   ]
  },
  {
   "cell_type": "code",
   "execution_count": null,
   "id": "b3d6a23b",
   "metadata": {},
   "outputs": [],
   "source": [
    "# 获取错误描述\n"
   ]
  }
 ],
 "metadata": {
  "kernelspec": {
   "display_name": "Python 3",
   "language": "python",
   "name": "python3"
  },
  "language_info": {
   "codemirror_mode": {
    "name": "ipython",
    "version": 3
   },
   "file_extension": ".py",
   "mimetype": "text/x-python",
   "name": "python",
   "nbconvert_exporter": "python",
   "pygments_lexer": "ipython3",
   "version": "3.8.6"
  }
 },
 "nbformat": 4,
 "nbformat_minor": 5
}
