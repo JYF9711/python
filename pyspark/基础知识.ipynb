{
 "cells": [
  {
   "cell_type": "markdown",
   "id": "4b78ca7f",
   "metadata": {},
   "source": [
    "### 装饰器"
   ]
  },
  {
   "cell_type": "raw",
   "id": "17622937",
   "metadata": {},
   "source": [
    "python装饰器就是用于拓展原来函数功能的一种函数，这个函数的特殊之处在于它的返回值也是一个函数\n",
    "\n",
    "python"
   ]
  },
  {
   "cell_type": "code",
   "execution_count": 2,
   "id": "c4c00263",
   "metadata": {},
   "outputs": [
    {
     "name": "stdout",
     "output_type": "stream",
     "text": [
      "(0, 3)\n",
      "None\n"
     ]
    }
   ],
   "source": [
    "import re\n",
    "\n",
    "print(re.match('www','www.runoob.com').span())\n",
    "print(re.match('com','www.runoob.com'))"
   ]
  },
  {
   "cell_type": "code",
   "execution_count": null,
   "id": "dd82352b",
   "metadata": {},
   "outputs": [],
   "source": [
    "import re \n",
    "\n",
    "line=\"CAts are smarter then dogs\"\n",
    "\n",
    "matchobj=re.match(r'(.*)ares(.*?).*,line,re.M|re.I)\n",
    "                  \n",
    "    "
   ]
  },
  {
   "cell_type": "code",
   "execution_count": 1,
   "id": "222d4f60",
   "metadata": {},
   "outputs": [
    {
     "ename": "ModuleNotFoundError",
     "evalue": "No module named 'sanic'",
     "output_type": "error",
     "traceback": [
      "\u001b[0;31m---------------------------------------------------------------------------\u001b[0m",
      "\u001b[0;31mModuleNotFoundError\u001b[0m                       Traceback (most recent call last)",
      "\u001b[0;32m<ipython-input-1-ab3f650d9b0d>\u001b[0m in \u001b[0;36m<module>\u001b[0;34m\u001b[0m\n\u001b[0;32m----> 1\u001b[0;31m \u001b[0;32mfrom\u001b[0m \u001b[0msanic\u001b[0m \u001b[0;32mimport\u001b[0m \u001b[0mSanic\u001b[0m\u001b[0;34m\u001b[0m\u001b[0;34m\u001b[0m\u001b[0m\n\u001b[0m",
      "\u001b[0;31mModuleNotFoundError\u001b[0m: No module named 'sanic'"
     ]
    }
   ],
   "source": [
    "from sanic import Sanic"
   ]
  }
 ],
 "metadata": {
  "kernelspec": {
   "display_name": "Python 3",
   "language": "python",
   "name": "python3"
  },
  "language_info": {
   "codemirror_mode": {
    "name": "ipython",
    "version": 3
   },
   "file_extension": ".py",
   "mimetype": "text/x-python",
   "name": "python",
   "nbconvert_exporter": "python",
   "pygments_lexer": "ipython3",
   "version": "3.8.6"
  }
 },
 "nbformat": 4,
 "nbformat_minor": 5
}
