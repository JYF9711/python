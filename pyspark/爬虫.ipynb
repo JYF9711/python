{
 "cells": [
  {
   "cell_type": "code",
   "execution_count": 1,
   "id": "d72c834e",
   "metadata": {},
   "outputs": [],
   "source": [
    "import requests\n",
    "import re\n",
    "import os\n",
    "from urllib.request import urlretrieve"
   ]
  },
  {
   "cell_type": "code",
   "execution_count": 5,
   "id": "8f88b60d",
   "metadata": {},
   "outputs": [
    {
     "data": {
      "text/plain": [
       "'https://xueshu.baidu.com/s?wd=spark&tn=SE_baiduxueshu_c1gjeupa&sc_f_para=sc_tasktype%3D%7BfirstSimpleSearch%7D'"
      ]
     },
     "execution_count": 5,
     "metadata": {},
     "output_type": "execute_result"
    }
   ],
   "source": [
    "def get_url(k):\n",
    "    url='https://xueshu.baidu.com/s?wd='+ k + '&tn=SE_baiduxueshu_c1gjeupa&sc_f_para=sc_tasktype%3D%7BfirstSimpleSearch%7D'\n",
    "    return url\n",
    "get_url('spark')"
   ]
  },
  {
   "cell_type": "code",
   "execution_count": 7,
   "id": "a1618260",
   "metadata": {},
   "outputs": [],
   "source": [
    "headers={\n",
    "'Accept':'text/html,application/xhtml+xml,application/xml;q=0.9,image/webp,*/*;q=0.8',\n",
    "\n",
    "'Cache-Control':'max-age=0',\n",
    "\n",
    "'Connection':'keep-alive',\n",
    "\n",
    "'Referer':'http://www.baidu.com/',\n",
    "\n",
    "'User-Agent':'Mozilla/5.0 (Windows NT 6.1; WOW64) AppleWebKit/537.36 (KHTML, like Gecko) Chrome/53.0.2785.104 Safari/537.36 Core/1.53.4882.400 QQBrowser/9.7.13059.400'}\n"
   ]
  },
  {
   "cell_type": "code",
   "execution_count": null,
   "id": "f95618f6",
   "metadata": {},
   "outputs": [],
   "source": []
  }
 ],
 "metadata": {
  "kernelspec": {
   "display_name": "Python 3",
   "language": "python",
   "name": "python3"
  },
  "language_info": {
   "codemirror_mode": {
    "name": "ipython",
    "version": 3
   },
   "file_extension": ".py",
   "mimetype": "text/x-python",
   "name": "python",
   "nbconvert_exporter": "python",
   "pygments_lexer": "ipython3",
   "version": "3.8.6"
  }
 },
 "nbformat": 4,
 "nbformat_minor": 5
}
