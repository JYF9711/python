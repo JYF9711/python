{
 "cells": [
  {
   "cell_type": "markdown",
   "id": "e11d5b37",
   "metadata": {},
   "source": [
    "# 二分查找 "
   ]
  },
  {
   "cell_type": "raw",
   "id": "bb9c0fc5",
   "metadata": {},
   "source": [
    "1、纯算法"
   ]
  },
  {
   "cell_type": "code",
   "execution_count": null,
   "id": "0ab1373e",
   "metadata": {},
   "outputs": [],
   "source": [
    "list=[11,22,33,44,55,66,77,88,99,123,124,335,667]\n",
    "n=678\n",
    "left=0\n",
    "right=len(list)-1\n",
    "count=1\n",
    "while left<=right:\n",
    "    middle=(left+right)//2\n",
    "    if list[middle]<n:\n",
    "        left=middle+1\n",
    "    elif list"
   ]
  }
 ],
 "metadata": {
  "kernelspec": {
   "display_name": "Python 3",
   "language": "python",
   "name": "python3"
  },
  "language_info": {
   "codemirror_mode": {
    "name": "ipython",
    "version": 3
   },
   "file_extension": ".py",
   "mimetype": "text/x-python",
   "name": "python",
   "nbconvert_exporter": "python",
   "pygments_lexer": "ipython3",
   "version": "3.8.6"
  }
 },
 "nbformat": 4,
 "nbformat_minor": 5
}
