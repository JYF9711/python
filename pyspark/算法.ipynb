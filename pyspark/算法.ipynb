{
 "cells": [
  {
   "cell_type": "markdown",
   "id": "e11d5b37",
   "metadata": {},
   "source": [
    "# 二分查找 "
   ]
  },
  {
   "cell_type": "raw",
   "id": "bb9c0fc5",
   "metadata": {},
   "source": [
    "1、纯算法"
   ]
  },
  {
   "cell_type": "code",
   "execution_count": null,
   "id": "0ab1373e",
   "metadata": {},
   "outputs": [],
   "source": [
    "list=[11,22,33,44,55,66,77,88,99,123,124,335,667]\n",
    "n=678\n",
    "left=0\n",
    "right=len(list)-1\n",
    "count=1\n",
    "if __name__=='__main__':\n",
    "    while left<=right:\n",
    "        if n<list[right] and n>list[left]:\n",
    "            mindz=(right-left)//2\n",
    "            if n==list[mindz]:\n",
    "                print()\n",
    "        else:\n",
    "            print(\"不在列表里\")"
   ]
  },
  {
   "cell_type": "code",
   "execution_count": null,
   "id": "a2f9f1f8",
   "metadata": {},
   "outputs": [],
   "source": [
    "import time\n",
    "def sumtime():\n",
    "    start=time.time()\n",
    "    for i in range(1,100):\n",
    "        a=1+i\n",
    "    end=time.time()\n",
    "    return end-start\n",
    "sumtime()"
   ]
  },
  {
   "cell_type": "code",
   "execution_count": 1,
   "id": "98ce9281",
   "metadata": {},
   "outputs": [
    {
     "data": {
      "text/plain": [
       "(1275.0, 2.1457672119140625e-06)"
      ]
     },
     "execution_count": 1,
     "metadata": {},
     "output_type": "execute_result"
    }
   ],
   "source": [
    "import time\n",
    "def sumfn3(n):\n",
    "    start=time.time()\n",
    "    thesum=(n*(n+1))/2\n",
    "    end=time.time()\n",
    "    return thesum, end-start\n",
    "sumfn3(50)"
   ]
  },
  {
   "cell_type": "code",
   "execution_count": 21,
   "id": "95556038",
   "metadata": {},
   "outputs": [
    {
     "name": "stdout",
     "output_type": "stream",
     "text": [
      "CPU times: user 2 µs, sys: 0 ns, total: 2 µs\n",
      "Wall time: 4.29 µs\n"
     ]
    }
   ],
   "source": [
    "%time"
   ]
  },
  {
   "cell_type": "code",
   "execution_count": null,
   "id": "26cb6bdf",
   "metadata": {},
   "outputs": [],
   "source": []
  }
 ],
 "metadata": {
  "kernelspec": {
   "display_name": "Python 3",
   "language": "python",
   "name": "python3"
  },
  "language_info": {
   "codemirror_mode": {
    "name": "ipython",
    "version": 3
   },
   "file_extension": ".py",
   "mimetype": "text/x-python",
   "name": "python",
   "nbconvert_exporter": "python",
   "pygments_lexer": "ipython3",
   "version": "3.8.6"
  }
 },
 "nbformat": 4,
 "nbformat_minor": 5
}
