{
 "cells": [
  {
   "cell_type": "markdown",
   "id": "e11d5b37",
   "metadata": {},
   "source": [
    "# 二分查找 "
   ]
  },
  {
   "cell_type": "raw",
   "id": "bb9c0fc5",
   "metadata": {},
   "source": [
    "1、纯算法"
   ]
  },
  {
   "cell_type": "code",
   "execution_count": null,
   "id": "0ab1373e",
   "metadata": {},
   "outputs": [],
   "source": [
    "list=[11,22,33,44,55,66,77,88,99,123,124,335,667]\n",
    "n=678\n",
    "left=0\n",
    "right=len(list)-1\n",
    "count=1\n",
    "if __name__=='__main__':\n",
    "    while left<=right:\n",
    "        if n<list[right] and n>list[left]:\n",
    "            mindz=(right-left)//2\n",
    "            if n==list[mindz]:\n",
    "                print()\n",
    "        else:\n",
    "            print(\"不在列表里\")"
   ]
  },
  {
   "cell_type": "code",
   "execution_count": null,
   "id": "729ec8cc",
   "metadata": {},
   "outputs": [],
   "source": [
    "list=[11,22,33,44,55,66,77,88,99,123,124,335,667]\n",
    "# x=int(input(\"请输入：\"))\n",
    "x=1235436\n",
    "left=0\n",
    "right=len(list)-1\n",
    "while left<right:\n",
    "    mid=(right-left)//2\n",
    "    if list[mid]==x:\n",
    "        break\n",
    "    elif list[mid]<x:\n",
    "        left=mid-1\n",
    "    else :\n",
    "        right=mid+1\n",
    "if left<=right:\n",
    "    print(\"找到了 ，第%d个数是%d。\"%(mid+1,x))\n",
    "else:\n",
    "    print(\"不再表里\")"
   ]
  },
  {
   "cell_type": "code",
   "execution_count": null,
   "id": "a2f9f1f8",
   "metadata": {},
   "outputs": [],
   "source": [
    "import time\n",
    "def sumtime():\n",
    "    start=time.time()\n",
    "    for i in range(1,100):\n",
    "        a=1+i\n",
    "    end=time.time()\n",
    "    return end-start\n",
    "sumtime()"
   ]
  },
  {
   "cell_type": "code",
   "execution_count": null,
   "id": "98ce9281",
   "metadata": {},
   "outputs": [],
   "source": [
    "import time\n",
    "def sumfn3(n):\n",
    "    start=time.time()\n",
    "    thesum=(n*(n+1))/2\n",
    "    end=time.time()\n",
    "    return thesum, end-start\n",
    "sumfn3(50)"
   ]
  },
  {
   "cell_type": "code",
   "execution_count": null,
   "id": "95556038",
   "metadata": {},
   "outputs": [],
   "source": [
    "%time"
   ]
  },
  {
   "cell_type": "code",
   "execution_count": null,
   "id": "26cb6bdf",
   "metadata": {},
   "outputs": [],
   "source": [
    "!pip install matplotlib"
   ]
  },
  {
   "cell_type": "code",
   "execution_count": null,
   "id": "e4088027",
   "metadata": {},
   "outputs": [],
   "source": [
    "import matplotlib.pyplot as plt\n",
    "import numpy as ap\n",
    "x=ap.arange(0,1,0.05)\n",
    "print(x)"
   ]
  },
  {
   "cell_type": "code",
   "execution_count": null,
   "id": "a4a13718",
   "metadata": {},
   "outputs": [],
   "source": [
    "y=ap.sin(ap.pi*x)\n",
    "print(y)"
   ]
  },
  {
   "cell_type": "code",
   "execution_count": null,
   "id": "75d1a4c0",
   "metadata": {},
   "outputs": [],
   "source": [
    "plt.plot(x,y,\"b--*\",label='sin')\n",
    "plt.title(\"MY First\")\n",
    "plt.xlabel(\"x ssda\")\n",
    "plt.ylabel(\"y sdfcdcf\")\n",
    "plt.legend(loc=\"best\")\n",
    "plt.show()"
   ]
  },
  {
   "cell_type": "code",
   "execution_count": null,
   "id": "6d612434",
   "metadata": {},
   "outputs": [],
   "source": [
    "alist=[1,2,3,4,5,5,7,8,9,10]\n",
    "alist.count(5)"
   ]
  }
 ],
 "metadata": {
  "kernelspec": {
   "display_name": "Python 3",
   "language": "python",
   "name": "python3"
  },
  "language_info": {
   "codemirror_mode": {
    "name": "ipython",
    "version": 3
   },
   "file_extension": ".py",
   "mimetype": "text/x-python",
   "name": "python",
   "nbconvert_exporter": "python",
   "pygments_lexer": "ipython3",
   "version": "3.8.6"
  }
 },
 "nbformat": 4,
 "nbformat_minor": 5
}
